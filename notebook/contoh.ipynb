{
 "cells": [
  {
   "cell_type": "code",
   "execution_count": 1,
   "metadata": {},
   "outputs": [],
   "source": [
    "import numpy as np\n",
    "import pandas as pd \n",
    "import networkx as nx\n",
    "import matplotlib.pyplot as plt\n",
    "import geopandas as gpd\n",
    "import osmnx as ox\n",
    "import itertools as it\n",
    "%matplotlib inline"
   ]
  },
  {
   "cell_type": "code",
   "execution_count": null,
   "metadata": {},
   "outputs": [],
   "source": [
    "flow = 10"
   ]
  },
  {
   "cell_type": "code",
   "execution_count": null,
   "metadata": {},
   "outputs": [],
   "source": [
    "G = nx.MultiDiGraph()\n",
    "travel_time_awal = [10,20,25]\n",
    "key = G.add_edge(1,2, capacity = 2)\n",
    "key2 = G.add_edge(1,2, capacity = 4)\n",
    "key3 = G.add_edge(1,2, capacity = 3)\n"
   ]
  },
  {
   "cell_type": "code",
   "execution_count": null,
   "metadata": {},
   "outputs": [],
   "source": [
    "df = nx.to_pandas_edgelist(G)\n",
    "df['travel_time_awal'] = travel_time_awal\n",
    "df['travel_time'] = travel_time_awal\n",
    "df['flow'] = [0,0,0]\n",
    "df\n",
    "# edge_attr = df_attributes_only.set_index('id').to_dict('index')"
   ]
  },
  {
   "cell_type": "code",
   "execution_count": null,
   "metadata": {},
   "outputs": [],
   "source": [
    "# nx.set_edge_attributes(G, values = df['travel_time'].values, name=\"travel_time\")\n",
    "G = nx.from_pandas_edgelist(df, source='source', target='target', edge_attr=True, create_using=nx.MultiDiGraph())\n",
    "G[1][2]"
   ]
  },
  {
   "cell_type": "code",
   "execution_count": null,
   "metadata": {},
   "outputs": [],
   "source": [
    "routes = nx.shortest_path(G, source=1, target=2, weight='travel_time')\n",
    "routes"
   ]
  },
  {
   "cell_type": "code",
   "execution_count": null,
   "metadata": {},
   "outputs": [],
   "source": [
    "minimum = G[1][2][0]['travel_time']\n",
    "keys = 0\n",
    "for index, i in enumerate(G[1][2]):\n",
    "    if G[1][2][i]['travel_time'] < minimum:\n",
    "        minimum = G[1][2][i]\n",
    "        keys = index\n",
    "\n",
    "keys"
   ]
  },
  {
   "cell_type": "code",
   "execution_count": null,
   "metadata": {},
   "outputs": [],
   "source": [
    "def routes_jalan(G, routes):\n",
    "    list_jalan = []\n",
    "    for i in range(len(routes)-1):\n",
    "        minimum = G[routes[i]][routes[i+1]][0]['travel_time']\n",
    "        n = 0\n",
    "        keys = 0\n",
    "        for node1, node2, data in G.edges(data=True):\n",
    "            if data['travel_time'] < minimum:\n",
    "                minimum = data['travel_time']\n",
    "                keys = n\n",
    "            n += 1\n",
    "        list_jalan.append(keys)\n",
    "    \n",
    "    return list_jalan"
   ]
  },
  {
   "cell_type": "code",
   "execution_count": null,
   "metadata": {},
   "outputs": [],
   "source": [
    "rute_jalan_key = routes_jalan(G, routes)\n",
    "rute_jalan_key"
   ]
  },
  {
   "cell_type": "markdown",
   "metadata": {},
   "source": [
    "## Updating Flow"
   ]
  },
  {
   "cell_type": "code",
   "execution_count": null,
   "metadata": {},
   "outputs": [],
   "source": [
    "nx.set_edge_attributes(G, values = 0, name='auxflow')"
   ]
  },
  {
   "cell_type": "code",
   "execution_count": null,
   "metadata": {},
   "outputs": [],
   "source": [
    "def updating_mainflow(G, routes):\n",
    "\n",
    "    rute_jalan_key = routes_jalan(G, routes)\n",
    "\n",
    "    for i in range(len(rute_jalan_key)):\n",
    "        attrs = {(routes[i], routes[i+1], rute_jalan_key[i]): {\"flow\": flow}}\n",
    "        nx.set_edge_attributes(G, attrs)\n",
    "\n",
    "    return G  "
   ]
  },
  {
   "cell_type": "code",
   "execution_count": null,
   "metadata": {},
   "outputs": [],
   "source": [
    "def updating_auxflow(G, routes):\n",
    "\n",
    "    rute_jalan_key = routes_jalan(G, routes)\n",
    "\n",
    "    for i in range(len(rute_jalan_key)):\n",
    "        attrs = {(routes[i], routes[i+1], rute_jalan_key[i]): {\"auxflow\": flow}}\n",
    "        nx.set_edge_attributes(G, attrs)\n",
    "\n",
    "    return G  "
   ]
  },
  {
   "cell_type": "code",
   "execution_count": null,
   "metadata": {},
   "outputs": [],
   "source": [
    "nx.to_pandas_edgelist(G)"
   ]
  },
  {
   "cell_type": "code",
   "execution_count": null,
   "metadata": {},
   "outputs": [],
   "source": [
    "Gupdate = updating_mainflow(G, routes)\n",
    "df = nx.to_pandas_edgelist(Gupdate)\n",
    "df"
   ]
  },
  {
   "cell_type": "code",
   "execution_count": null,
   "metadata": {},
   "outputs": [],
   "source": [
    "#This is a link performance function derived from Indonesia's Highway Manual (MKJI 1997).\n",
    "def lpr_idn(row):\n",
    "    if np.isnan(row['flow']):\n",
    "        return row['travel_time']\n",
    "    else:\n",
    "        try:\n",
    "            return row['travel_time_awal']*(1+0.15*(row['flow']/row['capacity'])**4)\n",
    "        except ValueError:\n",
    "            return row['travel_time']"
   ]
  },
  {
   "cell_type": "code",
   "execution_count": null,
   "metadata": {},
   "outputs": [],
   "source": [
    "list_edge = []\n",
    "for i in G.edges():\n",
    "    list_edge.append(i)\n",
    "\n",
    "for index, i in enumerate(list_edge):\n",
    "    attrib = {(i[0], i[1], index): {\"travel_time\": lpr_idn(G[i[0]][i[1]][index])}}\n",
    "    nx.set_edge_attributes(G, attrib)\n",
    "\n",
    "nx.to_pandas_edgelist(G)"
   ]
  },
  {
   "cell_type": "code",
   "execution_count": null,
   "metadata": {},
   "outputs": [],
   "source": [
    "routes = nx.shortest_path(G, source=1, target=2, weight='travel_time')\n",
    "routes"
   ]
  },
  {
   "cell_type": "code",
   "execution_count": null,
   "metadata": {},
   "outputs": [],
   "source": [
    "rute_jalan_key = routes_jalan(G, routes)\n",
    "rute_jalan_key"
   ]
  },
  {
   "cell_type": "code",
   "execution_count": null,
   "metadata": {},
   "outputs": [],
   "source": [
    "Gupdate = updating_auxflow(G, routes)\n",
    "nx.to_pandas_edgelist(Gupdate)"
   ]
  },
  {
   "cell_type": "markdown",
   "metadata": {},
   "source": [
    "## Bisection Method"
   ]
  },
  {
   "cell_type": "code",
   "execution_count": null,
   "metadata": {},
   "outputs": [],
   "source": [
    "def line_search(row, a, alpha, beta):\n",
    "    t=row['travel_time_awal']\n",
    "    x=row['flow']\n",
    "    y=row['auxflow']\n",
    "    c=row['capacity']\n",
    "    return -t*(x-y)*(alpha*(((x+a*(y-x))/c)**beta)+1)"
   ]
  },
  {
   "cell_type": "code",
   "execution_count": null,
   "metadata": {},
   "outputs": [],
   "source": [
    "def bisection(G, xl=0, xr=1, delta=0.0002, alpha=0.15, beta=4):\n",
    "    n = 0\n",
    "    df = nx.to_pandas_edgelist(G)\n",
    "    condition = True\n",
    "    while condition:\n",
    "        n += 1\n",
    "        x = (xl+xr)/2\n",
    "        if df.apply(lambda row: line_search(row, x, alpha=alpha, beta=beta), axis = 1).sum() <= 0:\n",
    "            xl = x\n",
    "        else:\n",
    "            xr = x\n",
    "        condition = abs(xr-xl) > 2*delta\n",
    "        print('|xl-xr| =', abs(xr-xl),' xl =', xl, ' xr=',xr)\n",
    "    print(f\"number of iteration in bisection method is {n}\")\n",
    "    return (xr+xl)/2"
   ]
  },
  {
   "cell_type": "code",
   "execution_count": null,
   "metadata": {},
   "outputs": [],
   "source": [
    "nx.to_pandas_edgelist(G)"
   ]
  },
  {
   "cell_type": "code",
   "execution_count": null,
   "metadata": {},
   "outputs": [],
   "source": [
    "bisection(G)"
   ]
  }
 ],
 "metadata": {
  "kernelspec": {
   "display_name": "Python 3.10.6 ('ox')",
   "language": "python",
   "name": "python3"
  },
  "language_info": {
   "codemirror_mode": {
    "name": "ipython",
    "version": 3
   },
   "file_extension": ".py",
   "mimetype": "text/x-python",
   "name": "python",
   "nbconvert_exporter": "python",
   "pygments_lexer": "ipython3",
   "version": "3.10.6"
  },
  "orig_nbformat": 4,
  "vscode": {
   "interpreter": {
    "hash": "dcebe2f389c787d4046fae7b6f4599bb416d19632d0b95a018a9364ce77fda38"
   }
  }
 },
 "nbformat": 4,
 "nbformat_minor": 2
}
