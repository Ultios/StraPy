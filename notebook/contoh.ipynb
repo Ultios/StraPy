{
 "cells": [
  {
   "cell_type": "code",
   "execution_count": 16,
   "metadata": {},
   "outputs": [],
   "source": [
    "import numpy as np\n",
    "import pandas as pd \n",
    "import networkx as nx\n",
    "import matplotlib.pyplot as plt\n",
    "import geopandas as gpd\n",
    "import osmnx as ox\n",
    "import itertools as it\n",
    "%matplotlib inline"
   ]
  },
  {
   "cell_type": "code",
   "execution_count": 17,
   "metadata": {},
   "outputs": [],
   "source": [
    "flow = 10"
   ]
  },
  {
   "cell_type": "code",
   "execution_count": 18,
   "metadata": {},
   "outputs": [],
   "source": [
    "G = nx.MultiDiGraph()\n",
    "travel_time_awal = [10,20,25]\n",
    "key = G.add_edge(1,2, capacity = 2)\n",
    "key2 = G.add_edge(1,2, capacity = 4)\n",
    "key3 = G.add_edge(1,2, capacity = 3)\n"
   ]
  },
  {
   "cell_type": "code",
   "execution_count": 19,
   "metadata": {},
   "outputs": [
    {
     "data": {
      "text/html": [
       "<div>\n",
       "<style scoped>\n",
       "    .dataframe tbody tr th:only-of-type {\n",
       "        vertical-align: middle;\n",
       "    }\n",
       "\n",
       "    .dataframe tbody tr th {\n",
       "        vertical-align: top;\n",
       "    }\n",
       "\n",
       "    .dataframe thead th {\n",
       "        text-align: right;\n",
       "    }\n",
       "</style>\n",
       "<table border=\"1\" class=\"dataframe\">\n",
       "  <thead>\n",
       "    <tr style=\"text-align: right;\">\n",
       "      <th></th>\n",
       "      <th>source</th>\n",
       "      <th>target</th>\n",
       "      <th>capacity</th>\n",
       "      <th>travel_time_awal</th>\n",
       "      <th>travel_time</th>\n",
       "      <th>flow</th>\n",
       "    </tr>\n",
       "  </thead>\n",
       "  <tbody>\n",
       "    <tr>\n",
       "      <th>0</th>\n",
       "      <td>1</td>\n",
       "      <td>2</td>\n",
       "      <td>2</td>\n",
       "      <td>10</td>\n",
       "      <td>10</td>\n",
       "      <td>0</td>\n",
       "    </tr>\n",
       "    <tr>\n",
       "      <th>1</th>\n",
       "      <td>1</td>\n",
       "      <td>2</td>\n",
       "      <td>4</td>\n",
       "      <td>20</td>\n",
       "      <td>20</td>\n",
       "      <td>0</td>\n",
       "    </tr>\n",
       "    <tr>\n",
       "      <th>2</th>\n",
       "      <td>1</td>\n",
       "      <td>2</td>\n",
       "      <td>3</td>\n",
       "      <td>25</td>\n",
       "      <td>25</td>\n",
       "      <td>0</td>\n",
       "    </tr>\n",
       "  </tbody>\n",
       "</table>\n",
       "</div>"
      ],
      "text/plain": [
       "   source  target  capacity  travel_time_awal  travel_time  flow\n",
       "0       1       2         2                10           10     0\n",
       "1       1       2         4                20           20     0\n",
       "2       1       2         3                25           25     0"
      ]
     },
     "execution_count": 19,
     "metadata": {},
     "output_type": "execute_result"
    }
   ],
   "source": [
    "df = nx.to_pandas_edgelist(G)\n",
    "df['travel_time_awal'] = travel_time_awal\n",
    "df['travel_time'] = travel_time_awal\n",
    "df['flow'] = [0,0,0]\n",
    "df\n",
    "# edge_attr = df_attributes_only.set_index('id').to_dict('index')"
   ]
  },
  {
   "cell_type": "code",
   "execution_count": 20,
   "metadata": {},
   "outputs": [
    {
     "data": {
      "text/plain": [
       "AtlasView({0: {'capacity': 2, 'travel_time_awal': 10, 'travel_time': 10, 'flow': 0}, 1: {'capacity': 4, 'travel_time_awal': 20, 'travel_time': 20, 'flow': 0}, 2: {'capacity': 3, 'travel_time_awal': 25, 'travel_time': 25, 'flow': 0}})"
      ]
     },
     "execution_count": 20,
     "metadata": {},
     "output_type": "execute_result"
    }
   ],
   "source": [
    "# nx.set_edge_attributes(G, values = df['travel_time'].values, name=\"travel_time\")\n",
    "G = nx.from_pandas_edgelist(df, source='source', target='target', edge_attr=True, create_using=nx.MultiDiGraph())\n",
    "G[1][2]"
   ]
  },
  {
   "cell_type": "code",
   "execution_count": 21,
   "metadata": {},
   "outputs": [
    {
     "data": {
      "text/plain": [
       "[1, 2]"
      ]
     },
     "execution_count": 21,
     "metadata": {},
     "output_type": "execute_result"
    }
   ],
   "source": [
    "routes = nx.shortest_path(G, source=1, target=2, weight='travel_time')\n",
    "routes"
   ]
  },
  {
   "cell_type": "code",
   "execution_count": 22,
   "metadata": {},
   "outputs": [
    {
     "data": {
      "text/plain": [
       "0"
      ]
     },
     "execution_count": 22,
     "metadata": {},
     "output_type": "execute_result"
    }
   ],
   "source": [
    "minimum = G[1][2][0]['travel_time']\n",
    "keys = 0\n",
    "for index, i in enumerate(G[1][2]):\n",
    "    if G[1][2][i]['travel_time'] < minimum:\n",
    "        minimum = G[1][2][i]\n",
    "        keys = index\n",
    "\n",
    "keys"
   ]
  },
  {
   "cell_type": "code",
   "execution_count": 23,
   "metadata": {},
   "outputs": [],
   "source": [
    "def routes_jalan(G, routes):\n",
    "    list_jalan = []\n",
    "    for i in range(len(routes)-1):\n",
    "        minimum = G[routes[i]][routes[i+1]][0]['travel_time']\n",
    "        n = 0\n",
    "        keys = 0\n",
    "        for node1, node2, data in G.edges(data=True):\n",
    "            if data['travel_time'] < minimum:\n",
    "                minimum = data['travel_time']\n",
    "                keys = n\n",
    "            n += 1\n",
    "        list_jalan.append(keys)\n",
    "    \n",
    "    return list_jalan"
   ]
  },
  {
   "cell_type": "code",
   "execution_count": 24,
   "metadata": {},
   "outputs": [
    {
     "data": {
      "text/plain": [
       "[0]"
      ]
     },
     "execution_count": 24,
     "metadata": {},
     "output_type": "execute_result"
    }
   ],
   "source": [
    "rute_jalan_key = routes_jalan(G, routes)\n",
    "rute_jalan_key"
   ]
  },
  {
   "cell_type": "markdown",
   "metadata": {},
   "source": [
    "## Updating Flow"
   ]
  },
  {
   "cell_type": "code",
   "execution_count": 25,
   "metadata": {},
   "outputs": [],
   "source": [
    "nx.set_edge_attributes(G, values = 0, name='auxflow')"
   ]
  },
  {
   "cell_type": "code",
   "execution_count": 26,
   "metadata": {},
   "outputs": [],
   "source": [
    "def updating_mainflow(G, routes):\n",
    "\n",
    "    rute_jalan_key = routes_jalan(G, routes)\n",
    "\n",
    "    for i in range(len(rute_jalan_key)):\n",
    "        attrs = {(routes[i], routes[i+1], rute_jalan_key[i]): {\"flow\": flow}}\n",
    "        nx.set_edge_attributes(G, attrs)\n",
    "\n",
    "    return G  "
   ]
  },
  {
   "cell_type": "code",
   "execution_count": 27,
   "metadata": {},
   "outputs": [],
   "source": [
    "def updating_auxflow(G, routes):\n",
    "\n",
    "    rute_jalan_key = routes_jalan(G, routes)\n",
    "\n",
    "    for i in range(len(rute_jalan_key)):\n",
    "        attrs = {(routes[i], routes[i+1], rute_jalan_key[i]): {\"auxflow\": flow}}\n",
    "        nx.set_edge_attributes(G, attrs)\n",
    "\n",
    "    return G  "
   ]
  },
  {
   "cell_type": "code",
   "execution_count": 28,
   "metadata": {},
   "outputs": [
    {
     "data": {
      "text/html": [
       "<div>\n",
       "<style scoped>\n",
       "    .dataframe tbody tr th:only-of-type {\n",
       "        vertical-align: middle;\n",
       "    }\n",
       "\n",
       "    .dataframe tbody tr th {\n",
       "        vertical-align: top;\n",
       "    }\n",
       "\n",
       "    .dataframe thead th {\n",
       "        text-align: right;\n",
       "    }\n",
       "</style>\n",
       "<table border=\"1\" class=\"dataframe\">\n",
       "  <thead>\n",
       "    <tr style=\"text-align: right;\">\n",
       "      <th></th>\n",
       "      <th>source</th>\n",
       "      <th>target</th>\n",
       "      <th>capacity</th>\n",
       "      <th>flow</th>\n",
       "      <th>auxflow</th>\n",
       "      <th>travel_time</th>\n",
       "      <th>travel_time_awal</th>\n",
       "    </tr>\n",
       "  </thead>\n",
       "  <tbody>\n",
       "    <tr>\n",
       "      <th>0</th>\n",
       "      <td>1</td>\n",
       "      <td>2</td>\n",
       "      <td>2</td>\n",
       "      <td>0</td>\n",
       "      <td>0</td>\n",
       "      <td>10</td>\n",
       "      <td>10</td>\n",
       "    </tr>\n",
       "    <tr>\n",
       "      <th>1</th>\n",
       "      <td>1</td>\n",
       "      <td>2</td>\n",
       "      <td>4</td>\n",
       "      <td>0</td>\n",
       "      <td>0</td>\n",
       "      <td>20</td>\n",
       "      <td>20</td>\n",
       "    </tr>\n",
       "    <tr>\n",
       "      <th>2</th>\n",
       "      <td>1</td>\n",
       "      <td>2</td>\n",
       "      <td>3</td>\n",
       "      <td>0</td>\n",
       "      <td>0</td>\n",
       "      <td>25</td>\n",
       "      <td>25</td>\n",
       "    </tr>\n",
       "  </tbody>\n",
       "</table>\n",
       "</div>"
      ],
      "text/plain": [
       "   source  target  capacity  flow  auxflow  travel_time  travel_time_awal\n",
       "0       1       2         2     0        0           10                10\n",
       "1       1       2         4     0        0           20                20\n",
       "2       1       2         3     0        0           25                25"
      ]
     },
     "execution_count": 28,
     "metadata": {},
     "output_type": "execute_result"
    }
   ],
   "source": [
    "nx.to_pandas_edgelist(G)"
   ]
  },
  {
   "cell_type": "code",
   "execution_count": 29,
   "metadata": {},
   "outputs": [
    {
     "data": {
      "text/html": [
       "<div>\n",
       "<style scoped>\n",
       "    .dataframe tbody tr th:only-of-type {\n",
       "        vertical-align: middle;\n",
       "    }\n",
       "\n",
       "    .dataframe tbody tr th {\n",
       "        vertical-align: top;\n",
       "    }\n",
       "\n",
       "    .dataframe thead th {\n",
       "        text-align: right;\n",
       "    }\n",
       "</style>\n",
       "<table border=\"1\" class=\"dataframe\">\n",
       "  <thead>\n",
       "    <tr style=\"text-align: right;\">\n",
       "      <th></th>\n",
       "      <th>source</th>\n",
       "      <th>target</th>\n",
       "      <th>capacity</th>\n",
       "      <th>flow</th>\n",
       "      <th>auxflow</th>\n",
       "      <th>travel_time</th>\n",
       "      <th>travel_time_awal</th>\n",
       "    </tr>\n",
       "  </thead>\n",
       "  <tbody>\n",
       "    <tr>\n",
       "      <th>0</th>\n",
       "      <td>1</td>\n",
       "      <td>2</td>\n",
       "      <td>2</td>\n",
       "      <td>10</td>\n",
       "      <td>0</td>\n",
       "      <td>10</td>\n",
       "      <td>10</td>\n",
       "    </tr>\n",
       "    <tr>\n",
       "      <th>1</th>\n",
       "      <td>1</td>\n",
       "      <td>2</td>\n",
       "      <td>4</td>\n",
       "      <td>0</td>\n",
       "      <td>0</td>\n",
       "      <td>20</td>\n",
       "      <td>20</td>\n",
       "    </tr>\n",
       "    <tr>\n",
       "      <th>2</th>\n",
       "      <td>1</td>\n",
       "      <td>2</td>\n",
       "      <td>3</td>\n",
       "      <td>0</td>\n",
       "      <td>0</td>\n",
       "      <td>25</td>\n",
       "      <td>25</td>\n",
       "    </tr>\n",
       "  </tbody>\n",
       "</table>\n",
       "</div>"
      ],
      "text/plain": [
       "   source  target  capacity  flow  auxflow  travel_time  travel_time_awal\n",
       "0       1       2         2    10        0           10                10\n",
       "1       1       2         4     0        0           20                20\n",
       "2       1       2         3     0        0           25                25"
      ]
     },
     "execution_count": 29,
     "metadata": {},
     "output_type": "execute_result"
    }
   ],
   "source": [
    "Gupdate = updating_mainflow(G, routes)\n",
    "df = nx.to_pandas_edgelist(Gupdate)\n",
    "df"
   ]
  },
  {
   "cell_type": "code",
   "execution_count": 30,
   "metadata": {},
   "outputs": [],
   "source": [
    "#This is a link performance function derived from Indonesia's Highway Manual (MKJI 1997).\n",
    "def lpr_idn(row):\n",
    "    if np.isnan(row['flow']):\n",
    "        return row['travel_time']\n",
    "    else:\n",
    "        try:\n",
    "            return row['travel_time_awal']*(1+0.15*(row['flow']/row['capacity'])**4)\n",
    "        except ValueError:\n",
    "            return row['travel_time']"
   ]
  },
  {
   "cell_type": "code",
   "execution_count": 31,
   "metadata": {},
   "outputs": [
    {
     "data": {
      "text/html": [
       "<div>\n",
       "<style scoped>\n",
       "    .dataframe tbody tr th:only-of-type {\n",
       "        vertical-align: middle;\n",
       "    }\n",
       "\n",
       "    .dataframe tbody tr th {\n",
       "        vertical-align: top;\n",
       "    }\n",
       "\n",
       "    .dataframe thead th {\n",
       "        text-align: right;\n",
       "    }\n",
       "</style>\n",
       "<table border=\"1\" class=\"dataframe\">\n",
       "  <thead>\n",
       "    <tr style=\"text-align: right;\">\n",
       "      <th></th>\n",
       "      <th>source</th>\n",
       "      <th>target</th>\n",
       "      <th>capacity</th>\n",
       "      <th>flow</th>\n",
       "      <th>auxflow</th>\n",
       "      <th>travel_time</th>\n",
       "      <th>travel_time_awal</th>\n",
       "    </tr>\n",
       "  </thead>\n",
       "  <tbody>\n",
       "    <tr>\n",
       "      <th>0</th>\n",
       "      <td>1</td>\n",
       "      <td>2</td>\n",
       "      <td>2</td>\n",
       "      <td>10</td>\n",
       "      <td>0</td>\n",
       "      <td>947.5</td>\n",
       "      <td>10</td>\n",
       "    </tr>\n",
       "    <tr>\n",
       "      <th>1</th>\n",
       "      <td>1</td>\n",
       "      <td>2</td>\n",
       "      <td>4</td>\n",
       "      <td>0</td>\n",
       "      <td>0</td>\n",
       "      <td>20.0</td>\n",
       "      <td>20</td>\n",
       "    </tr>\n",
       "    <tr>\n",
       "      <th>2</th>\n",
       "      <td>1</td>\n",
       "      <td>2</td>\n",
       "      <td>3</td>\n",
       "      <td>0</td>\n",
       "      <td>0</td>\n",
       "      <td>25.0</td>\n",
       "      <td>25</td>\n",
       "    </tr>\n",
       "  </tbody>\n",
       "</table>\n",
       "</div>"
      ],
      "text/plain": [
       "   source  target  capacity  flow  auxflow  travel_time  travel_time_awal\n",
       "0       1       2         2    10        0        947.5                10\n",
       "1       1       2         4     0        0         20.0                20\n",
       "2       1       2         3     0        0         25.0                25"
      ]
     },
     "execution_count": 31,
     "metadata": {},
     "output_type": "execute_result"
    }
   ],
   "source": [
    "list_edge = []\n",
    "for i in G.edges():\n",
    "    list_edge.append(i)\n",
    "\n",
    "for index, i in enumerate(list_edge):\n",
    "    attrib = {(i[0], i[1], index): {\"travel_time\": lpr_idn(G[i[0]][i[1]][index])}}\n",
    "    nx.set_edge_attributes(G, attrib)\n",
    "\n",
    "nx.to_pandas_edgelist(G)"
   ]
  },
  {
   "cell_type": "code",
   "execution_count": 32,
   "metadata": {},
   "outputs": [
    {
     "data": {
      "text/plain": [
       "[1, 2]"
      ]
     },
     "execution_count": 32,
     "metadata": {},
     "output_type": "execute_result"
    }
   ],
   "source": [
    "routes = nx.shortest_path(G, source=1, target=2, weight='travel_time')\n",
    "routes"
   ]
  },
  {
   "cell_type": "code",
   "execution_count": 33,
   "metadata": {},
   "outputs": [
    {
     "data": {
      "text/plain": [
       "[1]"
      ]
     },
     "execution_count": 33,
     "metadata": {},
     "output_type": "execute_result"
    }
   ],
   "source": [
    "rute_jalan_key = routes_jalan(G, routes)\n",
    "rute_jalan_key"
   ]
  },
  {
   "cell_type": "code",
   "execution_count": 34,
   "metadata": {},
   "outputs": [
    {
     "data": {
      "text/html": [
       "<div>\n",
       "<style scoped>\n",
       "    .dataframe tbody tr th:only-of-type {\n",
       "        vertical-align: middle;\n",
       "    }\n",
       "\n",
       "    .dataframe tbody tr th {\n",
       "        vertical-align: top;\n",
       "    }\n",
       "\n",
       "    .dataframe thead th {\n",
       "        text-align: right;\n",
       "    }\n",
       "</style>\n",
       "<table border=\"1\" class=\"dataframe\">\n",
       "  <thead>\n",
       "    <tr style=\"text-align: right;\">\n",
       "      <th></th>\n",
       "      <th>source</th>\n",
       "      <th>target</th>\n",
       "      <th>capacity</th>\n",
       "      <th>flow</th>\n",
       "      <th>auxflow</th>\n",
       "      <th>travel_time</th>\n",
       "      <th>travel_time_awal</th>\n",
       "    </tr>\n",
       "  </thead>\n",
       "  <tbody>\n",
       "    <tr>\n",
       "      <th>0</th>\n",
       "      <td>1</td>\n",
       "      <td>2</td>\n",
       "      <td>2</td>\n",
       "      <td>10</td>\n",
       "      <td>0</td>\n",
       "      <td>947.5</td>\n",
       "      <td>10</td>\n",
       "    </tr>\n",
       "    <tr>\n",
       "      <th>1</th>\n",
       "      <td>1</td>\n",
       "      <td>2</td>\n",
       "      <td>4</td>\n",
       "      <td>0</td>\n",
       "      <td>10</td>\n",
       "      <td>20.0</td>\n",
       "      <td>20</td>\n",
       "    </tr>\n",
       "    <tr>\n",
       "      <th>2</th>\n",
       "      <td>1</td>\n",
       "      <td>2</td>\n",
       "      <td>3</td>\n",
       "      <td>0</td>\n",
       "      <td>0</td>\n",
       "      <td>25.0</td>\n",
       "      <td>25</td>\n",
       "    </tr>\n",
       "  </tbody>\n",
       "</table>\n",
       "</div>"
      ],
      "text/plain": [
       "   source  target  capacity  flow  auxflow  travel_time  travel_time_awal\n",
       "0       1       2         2    10        0        947.5                10\n",
       "1       1       2         4     0       10         20.0                20\n",
       "2       1       2         3     0        0         25.0                25"
      ]
     },
     "execution_count": 34,
     "metadata": {},
     "output_type": "execute_result"
    }
   ],
   "source": [
    "Gupdate = updating_auxflow(G, routes)\n",
    "nx.to_pandas_edgelist(Gupdate)"
   ]
  },
  {
   "cell_type": "markdown",
   "metadata": {},
   "source": [
    "## Bisection Method"
   ]
  },
  {
   "cell_type": "code",
   "execution_count": 35,
   "metadata": {},
   "outputs": [],
   "source": [
    "def line_search(row, a):\n",
    "    return (row['auxflow']-row['flow'])*row['travel_time']*(row['flow']+a*(row['auxflow']-row['flow']))"
   ]
  },
  {
   "cell_type": "code",
   "execution_count": 36,
   "metadata": {},
   "outputs": [],
   "source": [
    "def bisection(G, xl=0, xr=1, delta=0.01):\n",
    "    n = 0\n",
    "    df = nx.to_pandas_edgelist(G)\n",
    "    condition = True\n",
    "    while condition:\n",
    "        n += 1\n",
    "        x = (xl+xr)/2\n",
    "        if df.apply(lambda row: line_search(row, x), axis = 1).sum() <= 0:\n",
    "            xl = x\n",
    "        else:\n",
    "            xr = x\n",
    "        condition = abs(xr-xl) > 2*delta\n",
    "        print('|xl-xr| =', abs(xr-xl))\n",
    "    print(f\"number of iteration in bisection method is {n}\")\n",
    "    return (xr+xl)/2"
   ]
  },
  {
   "cell_type": "code",
   "execution_count": 47,
   "metadata": {},
   "outputs": [],
   "source": [
    "def line_search2(row, a):\n",
    "    t=row['travel_time_awal']\n",
    "    x=row['flow']\n",
    "    y=row['auxflow']\n",
    "    c=row['capacity']\n",
    "    return t*(y-x)*((0.15*t*(y-x)*(a*(y-x)+x)**4)/c**4)"
   ]
  },
  {
   "cell_type": "code",
   "execution_count": 48,
   "metadata": {},
   "outputs": [],
   "source": [
    "def bisection2(G, xl=0, xr=1, delta=0.01):\n",
    "    n = 0\n",
    "    df = nx.to_pandas_edgelist(G)\n",
    "    condition = True\n",
    "    while condition:\n",
    "        n += 1\n",
    "        x = (xl+xr)/2\n",
    "        if df.apply(lambda row: line_search2(row, x), axis = 1).sum() <= 0:\n",
    "            xl = x\n",
    "        else:\n",
    "            xr = x\n",
    "        condition = abs(xr-xl) > 2*delta\n",
    "        print('|xl-xr| =', abs(xr-xl))\n",
    "    print(f\"number of iteration in bisection method is {n}\")\n",
    "    return (xr+xl)/2"
   ]
  },
  {
   "cell_type": "code",
   "execution_count": 49,
   "metadata": {},
   "outputs": [
    {
     "name": "stdout",
     "output_type": "stream",
     "text": [
      "|xl-xr| = 0.5\n",
      "|xl-xr| = 0.25\n",
      "|xl-xr| = 0.125\n",
      "|xl-xr| = 0.0625\n",
      "|xl-xr| = 0.03125\n",
      "|xl-xr| = 0.015625\n",
      "number of iteration in bisection method is 6\n"
     ]
    },
    {
     "data": {
      "text/plain": [
       "0.0078125"
      ]
     },
     "execution_count": 49,
     "metadata": {},
     "output_type": "execute_result"
    }
   ],
   "source": [
    "bisection2(Gupdate)"
   ]
  },
  {
   "cell_type": "code",
   "execution_count": 50,
   "metadata": {},
   "outputs": [],
   "source": [
    "def line_search3(row, a):\n",
    "    t=row['travel_time_awal']\n",
    "    x=row['flow']\n",
    "    y=row['auxflow']\n",
    "    c=row['capacity']\n",
    "    return t*((0.03*((x+a*(y-x))**5)/(c**4))+(x+a*(y-x)))"
   ]
  },
  {
   "cell_type": "code",
   "execution_count": 53,
   "metadata": {},
   "outputs": [],
   "source": [
    "def bisection3(G, xl=0, xr=1, delta=0.01):\n",
    "    n = 0\n",
    "    df = nx.to_pandas_edgelist(G)\n",
    "    condition = True\n",
    "    while condition:\n",
    "        n += 1\n",
    "        c = (xl+xr)/2\n",
    "        fa = df.apply(lambda row: line_search3(row, xl), axis = 1).sum()\n",
    "        fc = df.apply(lambda row: line_search3(row, c), axis = 1).sum()\n",
    "        if fa * fc > 0:\n",
    "            xl = c\n",
    "        else:\n",
    "            xr = c\n",
    "        condition = abs(xr-xl) > 2*delta\n",
    "        print('|xl-xr| =', abs(xr-xl))\n",
    "    print(f\"number of iteration in bisection method is {n}\")\n",
    "    return (xr+xl)/2"
   ]
  },
  {
   "cell_type": "code",
   "execution_count": 54,
   "metadata": {},
   "outputs": [
    {
     "name": "stdout",
     "output_type": "stream",
     "text": [
      "|xl-xr| = 0.5\n",
      "|xl-xr| = 0.25\n",
      "|xl-xr| = 0.125\n",
      "|xl-xr| = 0.0625\n",
      "|xl-xr| = 0.03125\n",
      "|xl-xr| = 0.015625\n",
      "number of iteration in bisection method is 6\n"
     ]
    },
    {
     "data": {
      "text/plain": [
       "0.9921875"
      ]
     },
     "execution_count": 54,
     "metadata": {},
     "output_type": "execute_result"
    }
   ],
   "source": [
    "bisection3(G)"
   ]
  },
  {
   "cell_type": "code",
   "execution_count": 55,
   "metadata": {},
   "outputs": [],
   "source": [
    "def line_search4(row, a):\n",
    "    t=row['travel_time_awal']\n",
    "    x=row['flow']\n",
    "    y=row['auxflow']\n",
    "    c=row['capacity']\n",
    "    return t*((0.15*(y-x)*((-a*x+a*y+x)**4)/(c**4))-x+y)"
   ]
  },
  {
   "cell_type": "code",
   "execution_count": 64,
   "metadata": {},
   "outputs": [],
   "source": [
    "def bisection4(G, xl=0, xr=1, delta=0.0001):\n",
    "    n = 0\n",
    "    df = nx.to_pandas_edgelist(G)\n",
    "    condition = True\n",
    "    while condition:\n",
    "        n += 1\n",
    "        x = (xl+xr)/2\n",
    "        if df.apply(lambda row: line_search4(row, x), axis = 1).sum() <= 0:\n",
    "            xl = x\n",
    "        else:\n",
    "            xr = x\n",
    "        condition = abs(xr-xl) > 2*delta\n",
    "        print('|xl-xr| =', abs(xr-xl),' xl =', xl, ' xr=',xr)\n",
    "    print(f\"number of iteration in bisection method is {n}\")\n",
    "    return (xr+xl)/2"
   ]
  },
  {
   "cell_type": "code",
   "execution_count": null,
   "metadata": {},
   "outputs": [
    {
     "data": {
      "text/html": [
       "<div>\n",
       "<style scoped>\n",
       "    .dataframe tbody tr th:only-of-type {\n",
       "        vertical-align: middle;\n",
       "    }\n",
       "\n",
       "    .dataframe tbody tr th {\n",
       "        vertical-align: top;\n",
       "    }\n",
       "\n",
       "    .dataframe thead th {\n",
       "        text-align: right;\n",
       "    }\n",
       "</style>\n",
       "<table border=\"1\" class=\"dataframe\">\n",
       "  <thead>\n",
       "    <tr style=\"text-align: right;\">\n",
       "      <th></th>\n",
       "      <th>source</th>\n",
       "      <th>target</th>\n",
       "      <th>auxflow</th>\n",
       "      <th>travel_time_awal</th>\n",
       "      <th>capacity</th>\n",
       "      <th>travel_time</th>\n",
       "      <th>flow</th>\n",
       "    </tr>\n",
       "  </thead>\n",
       "  <tbody>\n",
       "    <tr>\n",
       "      <th>0</th>\n",
       "      <td>1</td>\n",
       "      <td>2</td>\n",
       "      <td>0</td>\n",
       "      <td>10</td>\n",
       "      <td>2</td>\n",
       "      <td>947.5</td>\n",
       "      <td>10</td>\n",
       "    </tr>\n",
       "    <tr>\n",
       "      <th>1</th>\n",
       "      <td>1</td>\n",
       "      <td>2</td>\n",
       "      <td>10</td>\n",
       "      <td>20</td>\n",
       "      <td>4</td>\n",
       "      <td>20.0</td>\n",
       "      <td>0</td>\n",
       "    </tr>\n",
       "    <tr>\n",
       "      <th>2</th>\n",
       "      <td>1</td>\n",
       "      <td>2</td>\n",
       "      <td>0</td>\n",
       "      <td>25</td>\n",
       "      <td>3</td>\n",
       "      <td>25.0</td>\n",
       "      <td>0</td>\n",
       "    </tr>\n",
       "  </tbody>\n",
       "</table>\n",
       "</div>"
      ],
      "text/plain": [
       "   source  target  auxflow  travel_time_awal  capacity  travel_time  flow\n",
       "0       1       2        0                10         2        947.5    10\n",
       "1       1       2       10                20         4         20.0     0\n",
       "2       1       2        0                25         3         25.0     0"
      ]
     },
     "execution_count": 271,
     "metadata": {},
     "output_type": "execute_result"
    }
   ],
   "source": [
    "nx.to_pandas_edgelist(G)"
   ]
  },
  {
   "cell_type": "code",
   "execution_count": 65,
   "metadata": {},
   "outputs": [
    {
     "name": "stdout",
     "output_type": "stream",
     "text": [
      "|xl-xr| = 0.5  xl = 0.5  xr= 1\n",
      "|xl-xr| = 0.25  xl = 0.5  xr= 0.75\n",
      "|xl-xr| = 0.125  xl = 0.5  xr= 0.625\n",
      "|xl-xr| = 0.0625  xl = 0.5625  xr= 0.625\n",
      "|xl-xr| = 0.03125  xl = 0.59375  xr= 0.625\n",
      "|xl-xr| = 0.015625  xl = 0.59375  xr= 0.609375\n",
      "|xl-xr| = 0.0078125  xl = 0.59375  xr= 0.6015625\n",
      "|xl-xr| = 0.00390625  xl = 0.59375  xr= 0.59765625\n",
      "|xl-xr| = 0.001953125  xl = 0.595703125  xr= 0.59765625\n",
      "|xl-xr| = 0.0009765625  xl = 0.595703125  xr= 0.5966796875\n",
      "|xl-xr| = 0.00048828125  xl = 0.59619140625  xr= 0.5966796875\n",
      "|xl-xr| = 0.000244140625  xl = 0.596435546875  xr= 0.5966796875\n",
      "|xl-xr| = 0.0001220703125  xl = 0.596435546875  xr= 0.5965576171875\n",
      "number of iteration in bisection method is 13\n"
     ]
    },
    {
     "data": {
      "text/plain": [
       "0.59649658203125"
      ]
     },
     "execution_count": 65,
     "metadata": {},
     "output_type": "execute_result"
    }
   ],
   "source": [
    "bisection4(G)"
   ]
  },
  {
   "cell_type": "code",
   "execution_count": null,
   "metadata": {},
   "outputs": [
    {
     "data": {
      "text/plain": [
       "0   -38279.0\n",
       "1     1192.0\n",
       "2        0.0\n",
       "dtype: float64"
      ]
     },
     "execution_count": 280,
     "metadata": {},
     "output_type": "execute_result"
    }
   ],
   "source": [
    "z = "
   ]
  },
  {
   "cell_type": "code",
   "execution_count": null,
   "metadata": {},
   "outputs": [
    {
     "data": {
      "text/plain": [
       "-47375.0"
      ]
     },
     "execution_count": 279,
     "metadata": {},
     "output_type": "execute_result"
    }
   ],
   "source": []
  }
 ],
 "metadata": {
  "kernelspec": {
   "display_name": "Python 3.10.6 ('ox')",
   "language": "python",
   "name": "python3"
  },
  "language_info": {
   "codemirror_mode": {
    "name": "ipython",
    "version": 3
   },
   "file_extension": ".py",
   "mimetype": "text/x-python",
   "name": "python",
   "nbconvert_exporter": "python",
   "pygments_lexer": "ipython3",
   "version": "3.10.6"
  },
  "orig_nbformat": 4,
  "vscode": {
   "interpreter": {
    "hash": "132ad71d0fd4d9f16fe8a1783310a605af33a9e8263c383e9e84dbe57d705c94"
   }
  }
 },
 "nbformat": 4,
 "nbformat_minor": 2
}
