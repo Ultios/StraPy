{
 "cells": [
  {
   "cell_type": "code",
   "execution_count": 1,
   "metadata": {},
   "outputs": [],
   "source": [
    "import numpy as np\n",
    "import pandas as pd \n",
    "import networkx as nx\n",
    "import matplotlib.pyplot as plt\n",
    "import geopandas as gpd\n",
    "import osmnx as ox\n",
    "import itertools as it\n",
    "%matplotlib inline"
   ]
  },
  {
   "cell_type": "code",
   "execution_count": 134,
   "metadata": {},
   "outputs": [],
   "source": [
    "flow = 10"
   ]
  },
  {
   "cell_type": "code",
   "execution_count": 135,
   "metadata": {},
   "outputs": [
    {
     "data": {
      "text/plain": [
       "0"
      ]
     },
     "execution_count": 135,
     "metadata": {},
     "output_type": "execute_result"
    }
   ],
   "source": [
    "G = nx.MultiDiGraph()\n",
    "travel_time_awal = [10,20,25]\n",
    "key = G.add_edge(1,2, capacity = 2)\n",
    "key2 = G.add_edge(1,2, capacity = 4)\n",
    "key3 = G.add_edge(1,2, capacity = 3)\n"
   ]
  },
  {
   "cell_type": "code",
   "execution_count": 136,
   "metadata": {},
   "outputs": [
    {
     "data": {
      "text/html": [
       "<div>\n",
       "<style scoped>\n",
       "    .dataframe tbody tr th:only-of-type {\n",
       "        vertical-align: middle;\n",
       "    }\n",
       "\n",
       "    .dataframe tbody tr th {\n",
       "        vertical-align: top;\n",
       "    }\n",
       "\n",
       "    .dataframe thead th {\n",
       "        text-align: right;\n",
       "    }\n",
       "</style>\n",
       "<table border=\"1\" class=\"dataframe\">\n",
       "  <thead>\n",
       "    <tr style=\"text-align: right;\">\n",
       "      <th></th>\n",
       "      <th>source</th>\n",
       "      <th>target</th>\n",
       "      <th>capacity</th>\n",
       "      <th>travel_time_awal</th>\n",
       "      <th>travel_time</th>\n",
       "      <th>flow</th>\n",
       "    </tr>\n",
       "  </thead>\n",
       "  <tbody>\n",
       "    <tr>\n",
       "      <th>0</th>\n",
       "      <td>1</td>\n",
       "      <td>2</td>\n",
       "      <td>2</td>\n",
       "      <td>10</td>\n",
       "      <td>10</td>\n",
       "      <td>0</td>\n",
       "    </tr>\n",
       "    <tr>\n",
       "      <th>1</th>\n",
       "      <td>1</td>\n",
       "      <td>2</td>\n",
       "      <td>4</td>\n",
       "      <td>20</td>\n",
       "      <td>20</td>\n",
       "      <td>0</td>\n",
       "    </tr>\n",
       "    <tr>\n",
       "      <th>2</th>\n",
       "      <td>1</td>\n",
       "      <td>2</td>\n",
       "      <td>3</td>\n",
       "      <td>25</td>\n",
       "      <td>25</td>\n",
       "      <td>0</td>\n",
       "    </tr>\n",
       "  </tbody>\n",
       "</table>\n",
       "</div>"
      ],
      "text/plain": [
       "   source  target  capacity  travel_time_awal  travel_time  flow\n",
       "0       1       2         2                10           10     0\n",
       "1       1       2         4                20           20     0\n",
       "2       1       2         3                25           25     0"
      ]
     },
     "execution_count": 136,
     "metadata": {},
     "output_type": "execute_result"
    }
   ],
   "source": [
    "df = nx.to_pandas_edgelist(G)\n",
    "df['travel_time_awal'] = travel_time_awal\n",
    "df['travel_time'] = travel_time_awal\n",
    "df['flow'] = [0,0,0]\n",
    "df\n",
    "# edge_attr = df_attributes_only.set_index('id').to_dict('index')"
   ]
  },
  {
   "cell_type": "code",
   "execution_count": 137,
   "metadata": {},
   "outputs": [
    {
     "data": {
      "text/plain": [
       "AtlasView({0: {'capacity': 2, 'travel_time_awal': 10, 'travel_time': 10, 'flow': 0}, 1: {'capacity': 4, 'travel_time_awal': 20, 'travel_time': 20, 'flow': 0}, 2: {'capacity': 3, 'travel_time_awal': 25, 'travel_time': 25, 'flow': 0}})"
      ]
     },
     "execution_count": 137,
     "metadata": {},
     "output_type": "execute_result"
    }
   ],
   "source": [
    "# nx.set_edge_attributes(G, values = df['travel_time'].values, name=\"travel_time\")\n",
    "G = nx.from_pandas_edgelist(df, source='source', target='target', edge_attr=True, create_using=nx.MultiDiGraph())\n",
    "G[1][2]"
   ]
  },
  {
   "cell_type": "code",
   "execution_count": 198,
   "metadata": {},
   "outputs": [
    {
     "data": {
      "text/plain": [
       "[1, 2]"
      ]
     },
     "execution_count": 198,
     "metadata": {},
     "output_type": "execute_result"
    }
   ],
   "source": [
    "routes = nx.shortest_path(G, source=1, target=2, weight='travel_time')\n",
    "routes"
   ]
  },
  {
   "cell_type": "code",
   "execution_count": 139,
   "metadata": {},
   "outputs": [
    {
     "data": {
      "text/plain": [
       "0"
      ]
     },
     "execution_count": 139,
     "metadata": {},
     "output_type": "execute_result"
    }
   ],
   "source": [
    "minimum = G[1][2][0]['travel_time']\n",
    "keys = 0\n",
    "for index, i in enumerate(G[1][2]):\n",
    "    if G[1][2][i]['travel_time'] < minimum:\n",
    "        minimum = G[1][2][i]\n",
    "        keys = index\n",
    "\n",
    "keys"
   ]
  },
  {
   "cell_type": "code",
   "execution_count": null,
   "metadata": {},
   "outputs": [],
   "source": [
    "def routes_jalan(G, routes):\n",
    "    list_jalan = []\n",
    "    for i in range(len(routes)-1):\n",
    "        minimum = G[routes[i]][routes[i+1]][0]['travel_time']\n",
    "        n = 0\n",
    "        for node1, node2, data in G.edges(data=True):\n",
    "            if data['travel_time'] < minimum:\n",
    "                minimum = data['travel_time']\n",
    "                keys = n\n",
    "            n += 1\n",
    "        list_jalan.append(keys)\n",
    "    \n",
    "    return list_jalan"
   ]
  },
  {
   "cell_type": "code",
   "execution_count": 199,
   "metadata": {},
   "outputs": [
    {
     "name": "stdout",
     "output_type": "stream",
     "text": [
      "947.5\n",
      "<class 'float'>\n",
      "<class 'float'>\n",
      "1 2 0 947.5\n",
      "<class 'float'>\n",
      "1 2 1 20.0\n"
     ]
    },
    {
     "ename": "TypeError",
     "evalue": "'<=' not supported between instances of 'float' and 'dict'",
     "output_type": "error",
     "traceback": [
      "\u001b[1;31m---------------------------------------------------------------------------\u001b[0m",
      "\u001b[1;31mTypeError\u001b[0m                                 Traceback (most recent call last)",
      "Cell \u001b[1;32mIn [199], line 1\u001b[0m\n\u001b[1;32m----> 1\u001b[0m rute_jalan_key \u001b[39m=\u001b[39m routes_jalan(G, routes)\n\u001b[0;32m      2\u001b[0m rute_jalan_key\n",
      "Cell \u001b[1;32mIn [196], line 12\u001b[0m, in \u001b[0;36mroutes_jalan\u001b[1;34m(G, routes)\u001b[0m\n\u001b[0;32m     10\u001b[0m \u001b[39mprint\u001b[39m(\u001b[39mtype\u001b[39m(a))\n\u001b[0;32m     11\u001b[0m \u001b[39mprint\u001b[39m(routes[i], routes[i\u001b[39m+\u001b[39m\u001b[39m1\u001b[39m], index, a)\n\u001b[1;32m---> 12\u001b[0m \u001b[39mif\u001b[39;00m a \u001b[39m<\u001b[39;49m\u001b[39m=\u001b[39;49m minimum:\n\u001b[0;32m     13\u001b[0m     minimum \u001b[39m=\u001b[39m G[routes[i]][routes[i\u001b[39m+\u001b[39m\u001b[39m1\u001b[39m]][j]\n\u001b[0;32m     14\u001b[0m     keys \u001b[39m=\u001b[39m index\n",
      "\u001b[1;31mTypeError\u001b[0m: '<=' not supported between instances of 'float' and 'dict'"
     ]
    }
   ],
   "source": [
    "rute_jalan_key = routes_jalan(G, routes)\n",
    "rute_jalan_key"
   ]
  },
  {
   "cell_type": "markdown",
   "metadata": {},
   "source": [
    "## Updating Flow"
   ]
  },
  {
   "cell_type": "code",
   "execution_count": 230,
   "metadata": {},
   "outputs": [],
   "source": [
    "nx.set_edge_attributes(G, values = 0, name='auxflow')"
   ]
  },
  {
   "cell_type": "code",
   "execution_count": 234,
   "metadata": {},
   "outputs": [],
   "source": [
    "def updating_mainflow(G, routes):\n",
    "\n",
    "    rute_jalan_key = routes_jalan(G, routes)\n",
    "\n",
    "    for i in range(len(rute_jalan_key)):\n",
    "        attrs = {(routes[i], routes[i+1], rute_jalan_key[i]): {\"flow\": flow}}\n",
    "        nx.set_edge_attributes(G, attrs)\n",
    "\n",
    "    return G  "
   ]
  },
  {
   "cell_type": "code",
   "execution_count": 235,
   "metadata": {},
   "outputs": [],
   "source": [
    "def updating_auxflow(G, routes):\n",
    "\n",
    "    rute_jalan_key = routes_jalan(G, routes)\n",
    "\n",
    "    for i in range(len(rute_jalan_key)):\n",
    "        attrs = {(routes[i], routes[i+1], rute_jalan_key[i]): {\"auxflow\": flow}}\n",
    "        nx.set_edge_attributes(G, attrs)\n",
    "\n",
    "    return G  "
   ]
  },
  {
   "cell_type": "code",
   "execution_count": 145,
   "metadata": {},
   "outputs": [
    {
     "data": {
      "text/html": [
       "<div>\n",
       "<style scoped>\n",
       "    .dataframe tbody tr th:only-of-type {\n",
       "        vertical-align: middle;\n",
       "    }\n",
       "\n",
       "    .dataframe tbody tr th {\n",
       "        vertical-align: top;\n",
       "    }\n",
       "\n",
       "    .dataframe thead th {\n",
       "        text-align: right;\n",
       "    }\n",
       "</style>\n",
       "<table border=\"1\" class=\"dataframe\">\n",
       "  <thead>\n",
       "    <tr style=\"text-align: right;\">\n",
       "      <th></th>\n",
       "      <th>source</th>\n",
       "      <th>target</th>\n",
       "      <th>flow</th>\n",
       "      <th>capacity</th>\n",
       "      <th>travel_time</th>\n",
       "      <th>travel_time_awal</th>\n",
       "    </tr>\n",
       "  </thead>\n",
       "  <tbody>\n",
       "    <tr>\n",
       "      <th>0</th>\n",
       "      <td>1</td>\n",
       "      <td>2</td>\n",
       "      <td>0</td>\n",
       "      <td>2</td>\n",
       "      <td>10</td>\n",
       "      <td>10</td>\n",
       "    </tr>\n",
       "    <tr>\n",
       "      <th>1</th>\n",
       "      <td>1</td>\n",
       "      <td>2</td>\n",
       "      <td>0</td>\n",
       "      <td>4</td>\n",
       "      <td>20</td>\n",
       "      <td>20</td>\n",
       "    </tr>\n",
       "    <tr>\n",
       "      <th>2</th>\n",
       "      <td>1</td>\n",
       "      <td>2</td>\n",
       "      <td>0</td>\n",
       "      <td>3</td>\n",
       "      <td>25</td>\n",
       "      <td>25</td>\n",
       "    </tr>\n",
       "  </tbody>\n",
       "</table>\n",
       "</div>"
      ],
      "text/plain": [
       "   source  target  flow  capacity  travel_time  travel_time_awal\n",
       "0       1       2     0         2           10                10\n",
       "1       1       2     0         4           20                20\n",
       "2       1       2     0         3           25                25"
      ]
     },
     "execution_count": 145,
     "metadata": {},
     "output_type": "execute_result"
    }
   ],
   "source": [
    "nx.to_pandas_edgelist(G)"
   ]
  },
  {
   "cell_type": "code",
   "execution_count": 146,
   "metadata": {},
   "outputs": [
    {
     "data": {
      "text/html": [
       "<div>\n",
       "<style scoped>\n",
       "    .dataframe tbody tr th:only-of-type {\n",
       "        vertical-align: middle;\n",
       "    }\n",
       "\n",
       "    .dataframe tbody tr th {\n",
       "        vertical-align: top;\n",
       "    }\n",
       "\n",
       "    .dataframe thead th {\n",
       "        text-align: right;\n",
       "    }\n",
       "</style>\n",
       "<table border=\"1\" class=\"dataframe\">\n",
       "  <thead>\n",
       "    <tr style=\"text-align: right;\">\n",
       "      <th></th>\n",
       "      <th>source</th>\n",
       "      <th>target</th>\n",
       "      <th>flow</th>\n",
       "      <th>capacity</th>\n",
       "      <th>travel_time</th>\n",
       "      <th>travel_time_awal</th>\n",
       "    </tr>\n",
       "  </thead>\n",
       "  <tbody>\n",
       "    <tr>\n",
       "      <th>0</th>\n",
       "      <td>1</td>\n",
       "      <td>2</td>\n",
       "      <td>10</td>\n",
       "      <td>2</td>\n",
       "      <td>10</td>\n",
       "      <td>10</td>\n",
       "    </tr>\n",
       "    <tr>\n",
       "      <th>1</th>\n",
       "      <td>1</td>\n",
       "      <td>2</td>\n",
       "      <td>0</td>\n",
       "      <td>4</td>\n",
       "      <td>20</td>\n",
       "      <td>20</td>\n",
       "    </tr>\n",
       "    <tr>\n",
       "      <th>2</th>\n",
       "      <td>1</td>\n",
       "      <td>2</td>\n",
       "      <td>0</td>\n",
       "      <td>3</td>\n",
       "      <td>25</td>\n",
       "      <td>25</td>\n",
       "    </tr>\n",
       "  </tbody>\n",
       "</table>\n",
       "</div>"
      ],
      "text/plain": [
       "   source  target  flow  capacity  travel_time  travel_time_awal\n",
       "0       1       2    10         2           10                10\n",
       "1       1       2     0         4           20                20\n",
       "2       1       2     0         3           25                25"
      ]
     },
     "execution_count": 146,
     "metadata": {},
     "output_type": "execute_result"
    }
   ],
   "source": [
    "Gupdate = updating_flow(G, routes)\n",
    "df = nx.to_pandas_edgelist(Gupdate)\n",
    "df"
   ]
  },
  {
   "cell_type": "code",
   "execution_count": 147,
   "metadata": {},
   "outputs": [],
   "source": [
    "#This is a link performance function derived from Indonesia's Highway Manual (MKJI 1997).\n",
    "def lpr_idn(row):\n",
    "    if np.isnan(row['flow']):\n",
    "        return row['travel_time']\n",
    "    else:\n",
    "        try:\n",
    "            return row['travel_time_awal']*(1+0.15*(row['flow']/row['capacity'])**4)\n",
    "        except ValueError:\n",
    "            return row['travel_time']"
   ]
  },
  {
   "cell_type": "code",
   "execution_count": 148,
   "metadata": {},
   "outputs": [
    {
     "data": {
      "text/html": [
       "<div>\n",
       "<style scoped>\n",
       "    .dataframe tbody tr th:only-of-type {\n",
       "        vertical-align: middle;\n",
       "    }\n",
       "\n",
       "    .dataframe tbody tr th {\n",
       "        vertical-align: top;\n",
       "    }\n",
       "\n",
       "    .dataframe thead th {\n",
       "        text-align: right;\n",
       "    }\n",
       "</style>\n",
       "<table border=\"1\" class=\"dataframe\">\n",
       "  <thead>\n",
       "    <tr style=\"text-align: right;\">\n",
       "      <th></th>\n",
       "      <th>source</th>\n",
       "      <th>target</th>\n",
       "      <th>flow</th>\n",
       "      <th>capacity</th>\n",
       "      <th>travel_time</th>\n",
       "      <th>travel_time_awal</th>\n",
       "    </tr>\n",
       "  </thead>\n",
       "  <tbody>\n",
       "    <tr>\n",
       "      <th>0</th>\n",
       "      <td>1</td>\n",
       "      <td>2</td>\n",
       "      <td>10</td>\n",
       "      <td>2</td>\n",
       "      <td>947.5</td>\n",
       "      <td>10</td>\n",
       "    </tr>\n",
       "    <tr>\n",
       "      <th>1</th>\n",
       "      <td>1</td>\n",
       "      <td>2</td>\n",
       "      <td>0</td>\n",
       "      <td>4</td>\n",
       "      <td>20.0</td>\n",
       "      <td>20</td>\n",
       "    </tr>\n",
       "    <tr>\n",
       "      <th>2</th>\n",
       "      <td>1</td>\n",
       "      <td>2</td>\n",
       "      <td>0</td>\n",
       "      <td>3</td>\n",
       "      <td>25.0</td>\n",
       "      <td>25</td>\n",
       "    </tr>\n",
       "  </tbody>\n",
       "</table>\n",
       "</div>"
      ],
      "text/plain": [
       "   source  target  flow  capacity  travel_time  travel_time_awal\n",
       "0       1       2    10         2        947.5                10\n",
       "1       1       2     0         4         20.0                20\n",
       "2       1       2     0         3         25.0                25"
      ]
     },
     "execution_count": 148,
     "metadata": {},
     "output_type": "execute_result"
    }
   ],
   "source": [
    "list_edge = []\n",
    "for i in G.edges():\n",
    "    list_edge.append(i)\n",
    "\n",
    "for index, i in enumerate(list_edge):\n",
    "    attrib = {(i[0], i[1], index): {\"travel_time\": lpr_idn(G[i[0]][i[1]][index])}}\n",
    "    nx.set_edge_attributes(G, attrib)\n",
    "\n",
    "nx.to_pandas_edgelist(G)"
   ]
  },
  {
   "cell_type": "code",
   "execution_count": 192,
   "metadata": {},
   "outputs": [
    {
     "data": {
      "text/plain": [
       "[1, 2]"
      ]
     },
     "execution_count": 192,
     "metadata": {},
     "output_type": "execute_result"
    }
   ],
   "source": [
    "routes = nx.shortest_path(G, source=1, target=2, weight='travel_time')\n",
    "routes"
   ]
  },
  {
   "cell_type": "code",
   "execution_count": 236,
   "metadata": {},
   "outputs": [
    {
     "data": {
      "text/plain": [
       "[1]"
      ]
     },
     "execution_count": 236,
     "metadata": {},
     "output_type": "execute_result"
    }
   ],
   "source": [
    "rute_jalan_key = routes_jalan(G, routes)\n",
    "rute_jalan_key"
   ]
  },
  {
   "cell_type": "code",
   "execution_count": 237,
   "metadata": {},
   "outputs": [
    {
     "data": {
      "text/html": [
       "<div>\n",
       "<style scoped>\n",
       "    .dataframe tbody tr th:only-of-type {\n",
       "        vertical-align: middle;\n",
       "    }\n",
       "\n",
       "    .dataframe tbody tr th {\n",
       "        vertical-align: top;\n",
       "    }\n",
       "\n",
       "    .dataframe thead th {\n",
       "        text-align: right;\n",
       "    }\n",
       "</style>\n",
       "<table border=\"1\" class=\"dataframe\">\n",
       "  <thead>\n",
       "    <tr style=\"text-align: right;\">\n",
       "      <th></th>\n",
       "      <th>source</th>\n",
       "      <th>target</th>\n",
       "      <th>auxflow</th>\n",
       "      <th>travel_time_awal</th>\n",
       "      <th>capacity</th>\n",
       "      <th>travel_time</th>\n",
       "      <th>flow</th>\n",
       "    </tr>\n",
       "  </thead>\n",
       "  <tbody>\n",
       "    <tr>\n",
       "      <th>0</th>\n",
       "      <td>1</td>\n",
       "      <td>2</td>\n",
       "      <td>0</td>\n",
       "      <td>10</td>\n",
       "      <td>2</td>\n",
       "      <td>947.5</td>\n",
       "      <td>10</td>\n",
       "    </tr>\n",
       "    <tr>\n",
       "      <th>1</th>\n",
       "      <td>1</td>\n",
       "      <td>2</td>\n",
       "      <td>10</td>\n",
       "      <td>20</td>\n",
       "      <td>4</td>\n",
       "      <td>20.0</td>\n",
       "      <td>0</td>\n",
       "    </tr>\n",
       "    <tr>\n",
       "      <th>2</th>\n",
       "      <td>1</td>\n",
       "      <td>2</td>\n",
       "      <td>0</td>\n",
       "      <td>25</td>\n",
       "      <td>3</td>\n",
       "      <td>25.0</td>\n",
       "      <td>0</td>\n",
       "    </tr>\n",
       "  </tbody>\n",
       "</table>\n",
       "</div>"
      ],
      "text/plain": [
       "   source  target  auxflow  travel_time_awal  capacity  travel_time  flow\n",
       "0       1       2        0                10         2        947.5    10\n",
       "1       1       2       10                20         4         20.0     0\n",
       "2       1       2        0                25         3         25.0     0"
      ]
     },
     "execution_count": 237,
     "metadata": {},
     "output_type": "execute_result"
    }
   ],
   "source": [
    "Gupdate = updating_auxflow(G, routes)\n",
    "nx.to_pandas_edgelist(Gupdate)"
   ]
  },
  {
   "cell_type": "markdown",
   "metadata": {},
   "source": [
    "## Bisection Method"
   ]
  },
  {
   "cell_type": "code",
   "execution_count": 240,
   "metadata": {},
   "outputs": [],
   "source": [
    "def line_search(row, a):\n",
    "    return (row['auxflow']-row['flow'])*row['travel_time']*(row['flow']+a*(row['auxflow']-row['flow']))"
   ]
  },
  {
   "cell_type": "code",
   "execution_count": 262,
   "metadata": {},
   "outputs": [],
   "source": [
    "def bisection(G, xl=0, xr=1, delta=0.01):\n",
    "    n = 0\n",
    "    df = nx.to_pandas_edgelist(G)\n",
    "    condition = True\n",
    "    while condition:\n",
    "        n += 1\n",
    "        x = (xl+xr)/2\n",
    "        if df.apply(lambda row: line_search(row, x), axis = 1).sum() <= 0:\n",
    "            xl = x\n",
    "        else:\n",
    "            xr = x\n",
    "        condition = abs(xr-xl) > 2*delta\n",
    "        print('|xl-xr| =', abs(xr-xl))\n",
    "    print(f\"number of iteration in bisection method is {n}\")\n",
    "    return (xr+xl)/2"
   ]
  },
  {
   "cell_type": "code",
   "execution_count": 271,
   "metadata": {},
   "outputs": [
    {
     "data": {
      "text/html": [
       "<div>\n",
       "<style scoped>\n",
       "    .dataframe tbody tr th:only-of-type {\n",
       "        vertical-align: middle;\n",
       "    }\n",
       "\n",
       "    .dataframe tbody tr th {\n",
       "        vertical-align: top;\n",
       "    }\n",
       "\n",
       "    .dataframe thead th {\n",
       "        text-align: right;\n",
       "    }\n",
       "</style>\n",
       "<table border=\"1\" class=\"dataframe\">\n",
       "  <thead>\n",
       "    <tr style=\"text-align: right;\">\n",
       "      <th></th>\n",
       "      <th>source</th>\n",
       "      <th>target</th>\n",
       "      <th>auxflow</th>\n",
       "      <th>travel_time_awal</th>\n",
       "      <th>capacity</th>\n",
       "      <th>travel_time</th>\n",
       "      <th>flow</th>\n",
       "    </tr>\n",
       "  </thead>\n",
       "  <tbody>\n",
       "    <tr>\n",
       "      <th>0</th>\n",
       "      <td>1</td>\n",
       "      <td>2</td>\n",
       "      <td>0</td>\n",
       "      <td>10</td>\n",
       "      <td>2</td>\n",
       "      <td>947.5</td>\n",
       "      <td>10</td>\n",
       "    </tr>\n",
       "    <tr>\n",
       "      <th>1</th>\n",
       "      <td>1</td>\n",
       "      <td>2</td>\n",
       "      <td>10</td>\n",
       "      <td>20</td>\n",
       "      <td>4</td>\n",
       "      <td>20.0</td>\n",
       "      <td>0</td>\n",
       "    </tr>\n",
       "    <tr>\n",
       "      <th>2</th>\n",
       "      <td>1</td>\n",
       "      <td>2</td>\n",
       "      <td>0</td>\n",
       "      <td>25</td>\n",
       "      <td>3</td>\n",
       "      <td>25.0</td>\n",
       "      <td>0</td>\n",
       "    </tr>\n",
       "  </tbody>\n",
       "</table>\n",
       "</div>"
      ],
      "text/plain": [
       "   source  target  auxflow  travel_time_awal  capacity  travel_time  flow\n",
       "0       1       2        0                10         2        947.5    10\n",
       "1       1       2       10                20         4         20.0     0\n",
       "2       1       2        0                25         3         25.0     0"
      ]
     },
     "execution_count": 271,
     "metadata": {},
     "output_type": "execute_result"
    }
   ],
   "source": [
    "nx.to_pandas_edgelist(G)"
   ]
  },
  {
   "cell_type": "code",
   "execution_count": 280,
   "metadata": {},
   "outputs": [
    {
     "data": {
      "text/plain": [
       "0   -38279.0\n",
       "1     1192.0\n",
       "2        0.0\n",
       "dtype: float64"
      ]
     },
     "execution_count": 280,
     "metadata": {},
     "output_type": "execute_result"
    }
   ],
   "source": [
    "z = "
   ]
  },
  {
   "cell_type": "code",
   "execution_count": 279,
   "metadata": {},
   "outputs": [
    {
     "data": {
      "text/plain": [
       "-47375.0"
      ]
     },
     "execution_count": 279,
     "metadata": {},
     "output_type": "execute_result"
    }
   ],
   "source": []
  }
 ],
 "metadata": {
  "kernelspec": {
   "display_name": "Python 3.10.6 ('ox')",
   "language": "python",
   "name": "python3"
  },
  "language_info": {
   "codemirror_mode": {
    "name": "ipython",
    "version": 3
   },
   "file_extension": ".py",
   "mimetype": "text/x-python",
   "name": "python",
   "nbconvert_exporter": "python",
   "pygments_lexer": "ipython3",
   "version": "3.10.6"
  },
  "orig_nbformat": 4,
  "vscode": {
   "interpreter": {
    "hash": "b8f12a6206d2872d62743c6ac3b00b3fd89dca14a8375751fa8d96dd04d35b34"
   }
  }
 },
 "nbformat": 4,
 "nbformat_minor": 2
}
